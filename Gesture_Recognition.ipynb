{
  "cells": [
    {
      "cell_type": "markdown",
      "metadata": {
        "id": "view-in-github",
        "colab_type": "text"
      },
      "source": [
        "<a href=\"https://colab.research.google.com/github/poronita/Gesture-Recognition/blob/main/Gesture_Recognition.ipynb\" target=\"_parent\"><img src=\"https://colab.research.google.com/assets/colab-badge.svg\" alt=\"Open In Colab\"/></a>"
      ]
    },
    {
      "cell_type": "code",
      "source": [
        "from google.colab import drive\n",
        "drive.mount('/content/drive')"
      ],
      "metadata": {
        "colab": {
          "base_uri": "https://localhost:8080/"
        },
        "id": "hnWmFtJlCUw0",
        "outputId": "e7669e0c-96e7-405e-dfe2-0994eb59d6ba"
      },
      "execution_count": 11,
      "outputs": [
        {
          "output_type": "stream",
          "name": "stdout",
          "text": [
            "Mounted at /content/drive\n"
          ]
        }
      ]
    },
    {
      "cell_type": "code",
      "source": [
        "import os\n",
        "import numpy as np\n",
        "\n",
        "# Specify the paths to the training and validation data\n",
        "base_path = '/content/drive/MyDrive/Upgrade Assignment /Project_data/Project_data'\n",
        "train_path = os.path.join(base_path, 'train')\n",
        "val_path = os.path.join(base_path, 'val')\n",
        "\n",
        "# Function to load data lists from CSV files\n",
        "def load_data_list(data_path):\n",
        "    with open(data_path, 'r') as f:\n",
        "        data_list = f.readlines()\n",
        "    return np.random.permutation(data_list)\n",
        "\n",
        "# Load training and validation data lists\n",
        "train_doc = load_data_list(os.path.join(base_path, 'train.csv'))\n",
        "val_doc = load_data_list(os.path.join(base_path, 'val.csv'))"
      ],
      "metadata": {
        "id": "ywNGbZ_bRfTa"
      },
      "execution_count": 12,
      "outputs": []
    },
    {
      "cell_type": "markdown",
      "source": [
        "## Model Training Trial 01"
      ],
      "metadata": {
        "id": "UhRRz9Jg0so_"
      }
    },
    {
      "cell_type": "code",
      "source": [
        "from keras.preprocessing import image\n",
        "\n",
        "def generator(source_path, folder_list, batch_size=16, img_size=(120, 120), frames_to_use=15):\n",
        "    img_idx = np.round(np.linspace(0, 29, frames_to_use)).astype(int)\n",
        "    while True:\n",
        "        t = np.random.permutation(folder_list)\n",
        "        num_batches = len(t) // batch_size\n",
        "        for batch in range(num_batches):\n",
        "            batch_data = np.zeros((batch_size, frames_to_use, *img_size, 3))\n",
        "            batch_labels = np.zeros((batch_size, 5))  # Assuming 5 classes for gestures\n",
        "            for folder in range(batch_size):\n",
        "                imgs = sorted(os.listdir(source_path + '/' + t[folder + (batch * batch_size)].split(';')[0]))\n",
        "                for idx, item in enumerate(img_idx):\n",
        "                    img_path = os.path.join(source_path, t[folder + (batch*batch_size)].strip().split(';')[0], imgs[item])\n",
        "                    img = image.load_img(img_path, target_size=img_size)\n",
        "                    img = image.img_to_array(img) / 255.0\n",
        "                    batch_data[folder, idx] = img\n",
        "                batch_labels[folder, int(t[folder + (batch*batch_size)].strip().split(';')[2])] = 1\n",
        "            yield batch_data, batch_labels\n"
      ],
      "metadata": {
        "id": "hnJuyTcJRvJl"
      },
      "execution_count": 20,
      "outputs": []
    },
    {
      "cell_type": "code",
      "source": [
        "from keras.models import Sequential\n",
        "from keras.layers import TimeDistributed, Conv2D, MaxPooling2D, Flatten, GRU, Dense, Dropout\n",
        "\n",
        "def create_cnn_rnn_model():\n",
        "    model = Sequential()\n",
        "    model.add(TimeDistributed(Conv2D(32, (3, 3), activation='relu'), input_shape=(15, 120, 120, 3)))\n",
        "    model.add(TimeDistributed(MaxPooling2D((2, 2))))\n",
        "    model.add(TimeDistributed(Conv2D(64, (3, 3), activation='relu')))\n",
        "    model.add(TimeDistributed(MaxPooling2D((2, 2))))\n",
        "    model.add(TimeDistributed(Flatten()))\n",
        "    model.add(GRU(128, return_sequences=False))\n",
        "    model.add(Dense(128, activation='relu'))\n",
        "    model.add(Dropout(0.5))\n",
        "    model.add(Dense(5, activation='softmax'))\n",
        "\n",
        "    model.compile(optimizer='adam', loss='categorical_crossentropy', metrics=['categorical_accuracy'])\n",
        "    return model\n"
      ],
      "metadata": {
        "id": "V39H3HnhS3tn"
      },
      "execution_count": 21,
      "outputs": []
    },
    {
      "cell_type": "code",
      "source": [
        "model = create_cnn_rnn_model()\n",
        "print(model.summary())"
      ],
      "metadata": {
        "id": "lO2T5nh-ZVFS"
      },
      "execution_count": null,
      "outputs": []
    },
    {
      "cell_type": "code",
      "source": [
        "# Training\n",
        "from keras.callbacks import ModelCheckpoint, ReduceLROnPlateau\n",
        "checkpoint = ModelCheckpoint('model_best.h5', monitor='val_loss', save_best_only=True, verbose=1)\n",
        "reduce_lr = ReduceLROnPlateau(monitor='val_loss', factor=0.1, patience=3, verbose=1)\n",
        "\n",
        "history = model.fit_generator(generator(train_path, train_doc),\n",
        "                              steps_per_epoch=len(train_doc)//16, epochs=10,\n",
        "                              validation_data=generator(val_path, val_doc),\n",
        "                              validation_steps=len(val_doc)//16,\n",
        "                              callbacks=[checkpoint, reduce_lr], verbose=1)\n"
      ],
      "metadata": {
        "id": "sKE6RqqWYcj7"
      },
      "execution_count": null,
      "outputs": []
    },
    {
      "cell_type": "code",
      "source": [
        "# Step 6: Plot Training and Validation Results\n",
        "import matplotlib.pyplot as plt\n",
        "\n",
        "def plot_training_history(history):\n",
        "    plt.figure(figsize=(12, 6))\n",
        "\n",
        "    # Plot training & validation accuracy values\n",
        "    plt.subplot(1, 2, 1)\n",
        "    plt.plot(history.history['categorical_accuracy'])\n",
        "    plt.plot(history.history['val_categorical_accuracy'])\n",
        "    plt.title('Model accuracy')\n",
        "    plt.ylabel('Accuracy')\n",
        "    plt.xlabel('Epoch')\n",
        "    plt.legend(['Train', 'Val'], loc='upper left')\n",
        "\n",
        "    # Plot training & validation loss values\n",
        "    plt.subplot(1, 2, 2)\n",
        "    plt.plot(history.history['loss'])\n",
        "    plt.plot(history.history['val_loss'])\n",
        "    plt.title('Model loss')\n",
        "    plt.ylabel('Loss')\n",
        "    plt.xlabel('Epoch')\n",
        "    plt.legend(['Train', 'Val'], loc='upper left')\n",
        "\n",
        "    plt.tight_layout()\n",
        "    plt.show()\n",
        "\n",
        "plot_training_history(history)"
      ],
      "metadata": {
        "id": "OWm8rJ7qzGmM"
      },
      "execution_count": null,
      "outputs": []
    },
    {
      "cell_type": "code",
      "source": [
        "def plot_training_history(history):\n",
        "    # Extract accuracy and loss from the history object\n",
        "    train_accuracy = history.history['categorical_accuracy']\n",
        "    val_accuracy = history.history['val_categorical_accuracy']\n",
        "    train_loss = history.history['loss']\n",
        "    val_loss = history.history['val_loss']\n",
        "\n",
        "    # Determine the epoch with the best validation accuracy\n",
        "    best_epoch = np.argmax(val_accuracy)\n",
        "    best_val_accuracy = val_accuracy[best_epoch]\n",
        "\n",
        "    # Print the summary\n",
        "    print(f\"Best Validation Accuracy: {best_val_accuracy:.4f} at epoch {best_epoch+1}\")\n",
        "    print(f\"Final Training Accuracy: {train_accuracy[-1]:.4f}\")\n",
        "    print(f\"Final Validation Accuracy: {val_accuracy[-1]:.4f}\")\n",
        "    print(f\"Final Training Loss: {train_loss[-1]:.4f}\")\n",
        "    print(f\"Final Validation Loss: {val_loss[-1]:.4f}\")\n",
        "\n",
        "\n",
        "# Call the function to plot the training history and print the summary\n",
        "plot_training_history(history)\n"
      ],
      "metadata": {
        "id": "bM_kKlUY28sm"
      },
      "execution_count": null,
      "outputs": []
    },
    {
      "cell_type": "markdown",
      "source": [
        "## Model Training Trial 02"
      ],
      "metadata": {
        "id": "sW5YLGgE0mIj"
      }
    },
    {
      "cell_type": "code",
      "source": [
        "from tensorflow.keras.preprocessing import image\n",
        "from tensorflow.keras.applications import MobileNet\n",
        "from tensorflow.keras.layers import TimeDistributed, Conv2D, MaxPooling2D, Flatten, LSTM, Dense, Dropout, BatchNormalization\n",
        "from tensorflow.keras.models import Sequential\n",
        "from tensorflow.keras.optimizers import Adam\n",
        "from tensorflow.keras.callbacks import ModelCheckpoint, ReduceLROnPlateau\n",
        "import numpy as np\n",
        "import os\n",
        "import matplotlib.pyplot as plt"
      ],
      "metadata": {
        "id": "nm5uZJl2dle9"
      },
      "execution_count": 17,
      "outputs": []
    },
    {
      "cell_type": "code",
      "source": [
        "# Define paths for training and validation data\n",
        "base_path = '/content/drive/MyDrive/Upgrade Assignment /Project_data/Project_data'\n",
        "train_path = os.path.join(base_path, 'train')\n",
        "val_path = os.path.join(base_path, 'val')"
      ],
      "metadata": {
        "id": "NmJCqlete0W7"
      },
      "execution_count": 20,
      "outputs": []
    },
    {
      "cell_type": "code",
      "source": [
        "# Function to load CSV data into a shuffled array\n",
        "def load_data_list(data_path):\n",
        "    with open(data_path, 'r') as f:\n",
        "        data_list = [line.strip() for line in f.readlines()]\n",
        "    return np.random.permutation(data_list)\n",
        "\n",
        "# Load training and validation data lists\n",
        "train_doc = load_data_list(os.path.join(base_path, 'train.csv'))\n",
        "val_doc = load_data_list(os.path.join(base_path, 'val.csv'))"
      ],
      "metadata": {
        "id": "BBbQmbew6Wd4"
      },
      "execution_count": 21,
      "outputs": []
    },
    {
      "cell_type": "code",
      "source": [
        "# Generator function\n",
        "def generator(source_path, folder_list, batch_size=16, img_size=(128, 128), frames_to_use=15):\n",
        "    img_idx = np.round(np.linspace(0, 29, frames_to_use)).astype(int)\n",
        "    while True:\n",
        "        t = np.random.permutation(folder_list)\n",
        "        num_batches = len(t) // batch_size\n",
        "        for batch in range(num_batches):\n",
        "            batch_data = np.zeros((batch_size, frames_to_use, *img_size, 3))\n",
        "            batch_labels = np.zeros((batch_size, 5))  # Assuming 5 gesture classes\n",
        "            for folder in range(batch_size):\n",
        "                imgs = sorted(os.listdir(os.path.join(source_path, t[folder + (batch * batch_size)].split(';')[0])))\n",
        "                for idx, item in enumerate(img_idx):\n",
        "                    img_path = os.path.join(source_path, t[folder + (batch*batch_size)].split(';')[0], imgs[item])\n",
        "                    img = image.load_img(img_path, target_size=img_size)\n",
        "                    img = image.img_to_array(img) / 255.0\n",
        "                    batch_data[folder, idx, :, :, :] = img\n",
        "                batch_labels[folder, int(t[folder + (batch*batch_size)].split(';')[2])] = 1\n",
        "            yield batch_data, batch_labels"
      ],
      "metadata": {
        "id": "B1xA22tGfFWf"
      },
      "execution_count": 22,
      "outputs": []
    },
    {
      "cell_type": "code",
      "source": [
        "# Model creation function\n",
        "def create_cnn_rnn_model():\n",
        "    base_model = MobileNet(weights='imagenet', include_top=False, input_shape=(128, 128, 3))\n",
        "    for layer in base_model.layers:\n",
        "        layer.trainable = False\n",
        "\n",
        "    model = Sequential([\n",
        "        TimeDistributed(base_model, input_shape=(15, 128, 128, 3)),\n",
        "        TimeDistributed(BatchNormalization()),\n",
        "        TimeDistributed(MaxPooling2D((2, 2))),\n",
        "        TimeDistributed(Flatten()),\n",
        "        LSTM(128, return_sequences=False),\n",
        "        Dense(128, activation='relu'),\n",
        "        Dropout(0.25),\n",
        "        Dense(5, activation='softmax')\n",
        "    ])\n",
        "\n",
        "    model.compile(optimizer=Adam(learning_rate=0.0001), loss='categorical_crossentropy', metrics=['categorical_accuracy'])\n",
        "    return model\n"
      ],
      "metadata": {
        "id": "wqu6W9EKfFTq"
      },
      "execution_count": 23,
      "outputs": []
    },
    {
      "cell_type": "code",
      "source": [
        "# Initialize the model\n",
        "model = create_cnn_rnn_model()\n",
        "model.summary()"
      ],
      "metadata": {
        "colab": {
          "base_uri": "https://localhost:8080/"
        },
        "id": "VmEyvTkXfFOP",
        "outputId": "9587d4f7-41a9-4589-b544-a7e107319b96"
      },
      "execution_count": 24,
      "outputs": [
        {
          "output_type": "stream",
          "name": "stdout",
          "text": [
            "Model: \"sequential_2\"\n",
            "_________________________________________________________________\n",
            " Layer (type)                Output Shape              Param #   \n",
            "=================================================================\n",
            " time_distributed_8 (TimeDi  (None, 15, 4, 4, 1024)    3228864   \n",
            " stributed)                                                      \n",
            "                                                                 \n",
            " time_distributed_9 (TimeDi  (None, 15, 4, 4, 1024)    4096      \n",
            " stributed)                                                      \n",
            "                                                                 \n",
            " time_distributed_10 (TimeD  (None, 15, 2, 2, 1024)    0         \n",
            " istributed)                                                     \n",
            "                                                                 \n",
            " time_distributed_11 (TimeD  (None, 15, 4096)          0         \n",
            " istributed)                                                     \n",
            "                                                                 \n",
            " lstm_2 (LSTM)               (None, 128)               2163200   \n",
            "                                                                 \n",
            " dense_4 (Dense)             (None, 128)               16512     \n",
            "                                                                 \n",
            " dropout_2 (Dropout)         (None, 128)               0         \n",
            "                                                                 \n",
            " dense_5 (Dense)             (None, 5)                 645       \n",
            "                                                                 \n",
            "=================================================================\n",
            "Total params: 5413317 (20.65 MB)\n",
            "Trainable params: 2182405 (8.33 MB)\n",
            "Non-trainable params: 3230912 (12.32 MB)\n",
            "_________________________________________________________________\n"
          ]
        }
      ]
    },
    {
      "cell_type": "code",
      "source": [
        "# Setup model training\n",
        "checkpoint = ModelCheckpoint('model_best.h5', monitor='val_loss', save_best_only=True, verbose=1)\n",
        "reduce_lr = ReduceLROnPlateau(monitor='val_loss', factor=0.1, patience=3, verbose=1)\n"
      ],
      "metadata": {
        "id": "L-NDsI9PfQEj"
      },
      "execution_count": 25,
      "outputs": []
    },
    {
      "cell_type": "code",
      "source": [
        "# Train the model\n",
        "history = model.fit(\n",
        "    generator(train_path, train_doc, batch_size=16),\n",
        "    steps_per_epoch=len(train_doc) // 16,\n",
        "    epochs=20,\n",
        "    validation_data=generator(val_path, val_doc, batch_size=16),\n",
        "    validation_steps=len(val_doc) // 16,\n",
        "    callbacks=[checkpoint, reduce_lr],\n",
        "    verbose=1\n",
        ")"
      ],
      "metadata": {
        "colab": {
          "base_uri": "https://localhost:8080/"
        },
        "id": "aKpXYdrXfUQy",
        "outputId": "cc58455f-5101-4cd6-8db5-4b558ac94f13"
      },
      "execution_count": 26,
      "outputs": [
        {
          "metadata": {
            "tags": null
          },
          "name": "stdout",
          "output_type": "stream",
          "text": [
            "Epoch 1/20\n",
            "41/41 [==============================] - ETA: 0s - loss: 1.5443 - categorical_accuracy: 0.3308  \n",
            "Epoch 1: val_loss improved from inf to 1.37424, saving model to model_best.h5\n"
          ]
        },
        {
          "metadata": {
            "tags": null
          },
          "name": "stderr",
          "output_type": "stream",
          "text": [
            "/usr/local/lib/python3.10/dist-packages/keras/src/engine/training.py:3103: UserWarning: You are saving your model as an HDF5 file via `model.save()`. This file format is considered legacy. We recommend using instead the native Keras format, e.g. `model.save('my_model.keras')`.\n",
            "  saving_api.save_model(\n"
          ]
        },
        {
          "output_type": "stream",
          "name": "stdout",
          "text": [
            "41/41 [==============================] - 2884s 72s/step - loss: 1.5443 - categorical_accuracy: 0.3308 - val_loss: 1.3742 - val_categorical_accuracy: 0.5625 - lr: 1.0000e-04\n",
            "Epoch 2/20\n",
            "41/41 [==============================] - ETA: 0s - loss: 1.0007 - categorical_accuracy: 0.7652\n",
            "Epoch 2: val_loss improved from 1.37424 to 0.99335, saving model to model_best.h5\n",
            "41/41 [==============================] - 264s 6s/step - loss: 1.0007 - categorical_accuracy: 0.7652 - val_loss: 0.9933 - val_categorical_accuracy: 0.7708 - lr: 1.0000e-04\n",
            "Epoch 3/20\n",
            "41/41 [==============================] - ETA: 0s - loss: 0.6089 - categorical_accuracy: 0.9009\n",
            "Epoch 3: val_loss improved from 0.99335 to 0.83742, saving model to model_best.h5\n",
            "41/41 [==============================] - 249s 6s/step - loss: 0.6089 - categorical_accuracy: 0.9009 - val_loss: 0.8374 - val_categorical_accuracy: 0.7396 - lr: 1.0000e-04\n",
            "Epoch 4/20\n",
            "41/41 [==============================] - ETA: 0s - loss: 0.3612 - categorical_accuracy: 0.9604\n",
            "Epoch 4: val_loss improved from 0.83742 to 0.69871, saving model to model_best.h5\n",
            "41/41 [==============================] - 255s 6s/step - loss: 0.3612 - categorical_accuracy: 0.9604 - val_loss: 0.6987 - val_categorical_accuracy: 0.7500 - lr: 1.0000e-04\n",
            "Epoch 5/20\n",
            "41/41 [==============================] - ETA: 0s - loss: 0.2139 - categorical_accuracy: 0.9924\n",
            "Epoch 5: val_loss improved from 0.69871 to 0.68925, saving model to model_best.h5\n",
            "41/41 [==============================] - 263s 6s/step - loss: 0.2139 - categorical_accuracy: 0.9924 - val_loss: 0.6892 - val_categorical_accuracy: 0.7604 - lr: 1.0000e-04\n",
            "Epoch 6/20\n",
            "41/41 [==============================] - ETA: 0s - loss: 0.1377 - categorical_accuracy: 0.9954\n",
            "Epoch 6: val_loss improved from 0.68925 to 0.59127, saving model to model_best.h5\n",
            "41/41 [==============================] - 252s 6s/step - loss: 0.1377 - categorical_accuracy: 0.9954 - val_loss: 0.5913 - val_categorical_accuracy: 0.7812 - lr: 1.0000e-04\n",
            "Epoch 7/20\n",
            "41/41 [==============================] - ETA: 0s - loss: 0.0942 - categorical_accuracy: 0.9985\n",
            "Epoch 7: val_loss improved from 0.59127 to 0.54807, saving model to model_best.h5\n",
            "41/41 [==============================] - 264s 6s/step - loss: 0.0942 - categorical_accuracy: 0.9985 - val_loss: 0.5481 - val_categorical_accuracy: 0.7708 - lr: 1.0000e-04\n",
            "Epoch 8/20\n",
            "41/41 [==============================] - ETA: 0s - loss: 0.0682 - categorical_accuracy: 1.0000\n",
            "Epoch 8: val_loss improved from 0.54807 to 0.52121, saving model to model_best.h5\n",
            "41/41 [==============================] - 253s 6s/step - loss: 0.0682 - categorical_accuracy: 1.0000 - val_loss: 0.5212 - val_categorical_accuracy: 0.8021 - lr: 1.0000e-04\n",
            "Epoch 9/20\n",
            "41/41 [==============================] - ETA: 0s - loss: 0.0504 - categorical_accuracy: 1.0000\n",
            "Epoch 9: val_loss did not improve from 0.52121\n",
            "41/41 [==============================] - 251s 6s/step - loss: 0.0504 - categorical_accuracy: 1.0000 - val_loss: 0.5393 - val_categorical_accuracy: 0.8229 - lr: 1.0000e-04\n",
            "Epoch 10/20\n",
            "41/41 [==============================] - ETA: 0s - loss: 0.0418 - categorical_accuracy: 1.0000\n",
            "Epoch 10: val_loss did not improve from 0.52121\n",
            "41/41 [==============================] - 255s 6s/step - loss: 0.0418 - categorical_accuracy: 1.0000 - val_loss: 0.5503 - val_categorical_accuracy: 0.7917 - lr: 1.0000e-04\n",
            "Epoch 11/20\n",
            "41/41 [==============================] - ETA: 0s - loss: 0.0337 - categorical_accuracy: 1.0000\n",
            "Epoch 11: val_loss improved from 0.52121 to 0.44400, saving model to model_best.h5\n",
            "41/41 [==============================] - 253s 6s/step - loss: 0.0337 - categorical_accuracy: 1.0000 - val_loss: 0.4440 - val_categorical_accuracy: 0.8333 - lr: 1.0000e-04\n",
            "Epoch 12/20\n",
            "41/41 [==============================] - ETA: 0s - loss: 0.0272 - categorical_accuracy: 1.0000\n",
            "Epoch 12: val_loss did not improve from 0.44400\n",
            "41/41 [==============================] - 251s 6s/step - loss: 0.0272 - categorical_accuracy: 1.0000 - val_loss: 0.5047 - val_categorical_accuracy: 0.7812 - lr: 1.0000e-04\n",
            "Epoch 13/20\n",
            "41/41 [==============================] - ETA: 0s - loss: 0.0199 - categorical_accuracy: 1.0000\n",
            "Epoch 13: val_loss did not improve from 0.44400\n",
            "41/41 [==============================] - 249s 6s/step - loss: 0.0199 - categorical_accuracy: 1.0000 - val_loss: 0.4737 - val_categorical_accuracy: 0.8229 - lr: 1.0000e-04\n",
            "Epoch 14/20\n",
            "41/41 [==============================] - ETA: 0s - loss: 0.0196 - categorical_accuracy: 1.0000\n",
            "Epoch 14: val_loss did not improve from 0.44400\n",
            "\n",
            "Epoch 14: ReduceLROnPlateau reducing learning rate to 9.999999747378752e-06.\n",
            "41/41 [==============================] - 291s 7s/step - loss: 0.0196 - categorical_accuracy: 1.0000 - val_loss: 0.4969 - val_categorical_accuracy: 0.7812 - lr: 1.0000e-04\n",
            "Epoch 15/20\n",
            "41/41 [==============================] - ETA: 0s - loss: 0.0173 - categorical_accuracy: 1.0000\n",
            "Epoch 15: val_loss improved from 0.44400 to 0.42355, saving model to model_best.h5\n",
            "41/41 [==============================] - 251s 6s/step - loss: 0.0173 - categorical_accuracy: 1.0000 - val_loss: 0.4236 - val_categorical_accuracy: 0.8125 - lr: 1.0000e-05\n",
            "Epoch 16/20\n",
            "41/41 [==============================] - ETA: 0s - loss: 0.0172 - categorical_accuracy: 1.0000\n",
            "Epoch 16: val_loss did not improve from 0.42355\n",
            "41/41 [==============================] - 249s 6s/step - loss: 0.0172 - categorical_accuracy: 1.0000 - val_loss: 0.4915 - val_categorical_accuracy: 0.8021 - lr: 1.0000e-05\n",
            "Epoch 17/20\n",
            "41/41 [==============================] - ETA: 0s - loss: 0.0170 - categorical_accuracy: 1.0000\n",
            "Epoch 17: val_loss did not improve from 0.42355\n",
            "41/41 [==============================] - 260s 6s/step - loss: 0.0170 - categorical_accuracy: 1.0000 - val_loss: 0.4392 - val_categorical_accuracy: 0.8229 - lr: 1.0000e-05\n",
            "Epoch 18/20\n",
            "41/41 [==============================] - ETA: 0s - loss: 0.0182 - categorical_accuracy: 1.0000\n",
            "Epoch 18: val_loss did not improve from 0.42355\n",
            "\n",
            "Epoch 18: ReduceLROnPlateau reducing learning rate to 9.999999747378752e-07.\n",
            "41/41 [==============================] - 249s 6s/step - loss: 0.0182 - categorical_accuracy: 1.0000 - val_loss: 0.4612 - val_categorical_accuracy: 0.8229 - lr: 1.0000e-05\n",
            "Epoch 19/20\n",
            "41/41 [==============================] - ETA: 0s - loss: 0.0176 - categorical_accuracy: 1.0000\n",
            "Epoch 19: val_loss did not improve from 0.42355\n",
            "41/41 [==============================] - 258s 6s/step - loss: 0.0176 - categorical_accuracy: 1.0000 - val_loss: 0.4580 - val_categorical_accuracy: 0.8229 - lr: 1.0000e-06\n",
            "Epoch 20/20\n",
            "41/41 [==============================] - ETA: 0s - loss: 0.0170 - categorical_accuracy: 1.0000\n",
            "Epoch 20: val_loss did not improve from 0.42355\n",
            "41/41 [==============================] - 252s 6s/step - loss: 0.0170 - categorical_accuracy: 1.0000 - val_loss: 0.4314 - val_categorical_accuracy: 0.8125 - lr: 1.0000e-06\n"
          ]
        }
      ]
    },
    {
      "cell_type": "code",
      "source": [
        "# Function to plot training history\n",
        "def plot_training_history(history):\n",
        "    plt.figure(figsize=(12, 6))\n",
        "    plt.subplot(1, 2, 1)\n",
        "    plt.plot(history.history['categorical_accuracy'], label='Training Accuracy')\n",
        "    plt.plot(history.history['val_categorical_accuracy'], label='Validation Accuracy')\n",
        "    plt.title('Model Accuracy')\n",
        "    plt.xlabel('Epoch')\n",
        "    plt.ylabel('Accuracy')\n",
        "    plt.legend(loc='upper left')\n",
        "\n",
        "    plt.subplot(1, 2, 2)\n",
        "    plt.plot(history.history['loss'], label='Training Loss')\n",
        "    plt.plot(history.history['val_loss'], label='Validation Loss')\n",
        "    plt.title('Model Loss')\n",
        "    plt.xlabel('Epoch')\n",
        "    plt.ylabel('Loss')\n",
        "    plt.legend(loc='upper left')\n",
        "    plt.show()\n"
      ],
      "metadata": {
        "id": "UJHX5Kez6Wa0"
      },
      "execution_count": 27,
      "outputs": []
    },
    {
      "cell_type": "code",
      "source": [
        "# Plot the training history\n",
        "plot_training_history(history)"
      ],
      "metadata": {
        "colab": {
          "base_uri": "https://localhost:8080/",
          "height": 564
        },
        "id": "0VMd6skv9MBk",
        "outputId": "7e8b6cc9-b9c9-4c74-a17e-e9550fb8c59c"
      },
      "execution_count": 28,
      "outputs": [
        {
          "output_type": "display_data",
          "data": {
            "text/plain": [
              "<Figure size 1200x600 with 2 Axes>"
            ],
            "image/png": "[encoded data removed]"
          },
          "metadata": {}
        }
      ]
    },
    {
      "cell_type": "code",
      "source": [
        "def plot_training_history(history):\n",
        "    # Extract accuracy and loss from the history object\n",
        "    train_accuracy = history.history['categorical_accuracy']\n",
        "    val_accuracy = history.history['val_categorical_accuracy']\n",
        "    train_loss = history.history['loss']\n",
        "    val_loss = history.history['val_loss']\n",
        "\n",
        "    # Determine the epoch with the best validation accuracy\n",
        "    best_epoch = np.argmax(val_accuracy)\n",
        "    best_val_accuracy = val_accuracy[best_epoch]\n",
        "\n",
        "    # Print the summary\n",
        "    print(f\"Best Validation Accuracy: {best_val_accuracy:.4f} at epoch {best_epoch+1}\")\n",
        "    print(f\"Final Training Accuracy: {train_accuracy[-1]:.4f}\")\n",
        "    print(f\"Final Validation Accuracy: {val_accuracy[-1]:.4f}\")\n",
        "    print(f\"Final Training Loss: {train_loss[-1]:.4f}\")\n",
        "    print(f\"Final Validation Loss: {val_loss[-1]:.4f}\")\n",
        "\n",
        "\n",
        "# Call the function to plot the training history and print the summary\n",
        "plot_training_history(history)"
      ],
      "metadata": {
        "colab": {
          "base_uri": "https://localhost:8080/"
        },
        "id": "zFiDZp-E9c-i",
        "outputId": "b71966f7-9cf8-400f-c468-65cb8935663a"
      },
      "execution_count": 32,
      "outputs": [
        {
          "output_type": "stream",
          "name": "stdout",
          "text": [
            "Best Validation Accuracy: 0.8333 at epoch 11\n",
            "Final Training Accuracy: 1.0000\n",
            "Final Validation Accuracy: 0.8125\n",
            "Final Training Loss: 0.0170\n",
            "Final Validation Loss: 0.4314\n"
          ]
        }
      ]
    },
    {
      "cell_type": "markdown",
      "source": [
        "## Model Training Trial 03"
      ],
      "metadata": {
        "id": "Iw6Bqc5Y0PwY"
      }
    },
    {
      "cell_type": "code",
      "source": [
        "from tensorflow.keras.layers import Conv3D, MaxPooling3D, Flatten, Dense, Dropout, Input, BatchNormalization\n",
        "from tensorflow.keras.models import Model\n",
        "from tensorflow.keras.optimizers import Adam\n",
        "from tensorflow.keras.callbacks import ModelCheckpoint, ReduceLROnPlateau\n",
        "import numpy as np\n",
        "import os\n",
        "import matplotlib.pyplot as plt"
      ],
      "metadata": {
        "id": "LAvrKr6N0UkY"
      },
      "execution_count": 13,
      "outputs": []
    },
    {
      "cell_type": "code",
      "source": [
        "from keras.preprocessing import image"
      ],
      "metadata": {
        "id": "3ll5uwCYXs3A"
      },
      "execution_count": 14,
      "outputs": []
    },
    {
      "cell_type": "code",
      "source": [
        "# Generator for 3D CNN\n",
        "def generator_3d(source_path, folder_list, batch_size=16, frames_to_use=15, img_size=(128, 128)):\n",
        "    img_idx = np.round(np.linspace(0, 29, frames_to_use)).astype(int)\n",
        "    while True:\n",
        "        t = np.random.permutation(folder_list)\n",
        "        num_batches = len(t) // batch_size\n",
        "        for batch in range(num_batches):\n",
        "            batch_data = np.zeros((batch_size, frames_to_use, *img_size, 3))\n",
        "            batch_labels = np.zeros((batch_size, 5))  # Assuming 5 gesture classes\n",
        "            for folder in range(batch_size):\n",
        "                imgs = sorted(os.listdir(os.path.join(source_path, t[folder + (batch * batch_size)].split(';')[0])))\n",
        "                for idx, item in enumerate(img_idx):\n",
        "                    img_path = os.path.join(source_path, t[folder + (batch*batch_size)].split(';')[0], imgs[item])\n",
        "                    img = image.load_img(img_path, target_size=img_size)\n",
        "                    img = image.img_to_array(img) / 255.0\n",
        "                    batch_data[folder, idx, :, :, :] = img\n",
        "                batch_labels[folder, int(t[folder + (batch*batch_size)].split(';')[2])] = 1\n",
        "            yield batch_data, batch_labels"
      ],
      "metadata": {
        "id": "3pUwhZ2N-slh"
      },
      "execution_count": 15,
      "outputs": []
    },
    {
      "cell_type": "code",
      "source": [
        "# 3D CNN Model Creation\n",
        "def create_3d_cnn_model(frames_to_use=15, img_width=128, img_height=128):\n",
        "    input_shape = (frames_to_use, img_width, img_height, 3)\n",
        "    inputs = Input(input_shape)\n",
        "\n",
        "    x = Conv3D(32, kernel_size=(3, 3, 3), activation='relu', padding='same')(inputs)\n",
        "    x = MaxPooling3D(pool_size=(2, 2, 2))(x)\n",
        "    x = BatchNormalization()(x)\n",
        "\n",
        "    x = Conv3D(64, kernel_size=(3, 3, 3), activation='relu', padding='same')(x)\n",
        "    x = MaxPooling3D(pool_size=(2, 2, 2))(x)\n",
        "    x = BatchNormalization()(x)\n",
        "\n",
        "    x = Flatten()(x)\n",
        "    x = Dense(256, activation='relu')(x)\n",
        "    x = Dropout(0.5)(x)\n",
        "    outputs = Dense(5, activation='softmax')(x)\n",
        "\n",
        "    model = Model(inputs, outputs)\n",
        "    model.compile(optimizer=Adam(learning_rate=0.001), loss='categorical_crossentropy', metrics=['categorical_accuracy'])\n",
        "    return model\n"
      ],
      "metadata": {
        "id": "rtD0Pyr4-sjV"
      },
      "execution_count": 16,
      "outputs": []
    },
    {
      "cell_type": "code",
      "source": [
        "model_3d = create_3d_cnn_model()\n",
        "model_3d.summary()"
      ],
      "metadata": {
        "colab": {
          "base_uri": "https://localhost:8080/"
        },
        "id": "1PAqVGAO-sg-",
        "outputId": "1a662419-d928-454d-e979-987427b93d9f"
      },
      "execution_count": 17,
      "outputs": [
        {
          "output_type": "stream",
          "name": "stdout",
          "text": [
            "Model: \"model\"\n",
            "_________________________________________________________________\n",
            " Layer (type)                Output Shape              Param #   \n",
            "=================================================================\n",
            " input_1 (InputLayer)        [(None, 15, 128, 128, 3   0         \n",
            "                             )]                                  \n",
            "                                                                 \n",
            " conv3d (Conv3D)             (None, 15, 128, 128, 32   2624      \n",
            "                             )                                   \n",
            "                                                                 \n",
            " max_pooling3d (MaxPooling3  (None, 7, 64, 64, 32)     0         \n",
            " D)                                                              \n",
            "                                                                 \n",
            " batch_normalization (Batch  (None, 7, 64, 64, 32)     128       \n",
            " Normalization)                                                  \n",
            "                                                                 \n",
            " conv3d_1 (Conv3D)           (None, 7, 64, 64, 64)     55360     \n",
            "                                                                 \n",
            " max_pooling3d_1 (MaxPoolin  (None, 3, 32, 32, 64)     0         \n",
            " g3D)                                                            \n",
            "                                                                 \n",
            " batch_normalization_1 (Bat  (None, 3, 32, 32, 64)     256       \n",
            " chNormalization)                                                \n",
            "                                                                 \n",
            " flatten (Flatten)           (None, 196608)            0         \n",
            "                                                                 \n",
            " dense (Dense)               (None, 256)               50331904  \n",
            "                                                                 \n",
            " dropout (Dropout)           (None, 256)               0         \n",
            "                                                                 \n",
            " dense_1 (Dense)             (None, 5)                 1285      \n",
            "                                                                 \n",
            "=================================================================\n",
            "Total params: 50391557 (192.23 MB)\n",
            "Trainable params: 50391365 (192.23 MB)\n",
            "Non-trainable params: 192 (768.00 Byte)\n",
            "_________________________________________________________________\n"
          ]
        }
      ]
    },
    {
      "cell_type": "code",
      "source": [
        "# Setup training\n",
        "checkpoint_3d = ModelCheckpoint('model_3d_best.h5', monitor='val_loss', save_best_only=True, verbose=1)\n",
        "reduce_lr_3d = ReduceLROnPlateau(monitor='val_loss', factor=0.1, patience=3, verbose=1)\n"
      ],
      "metadata": {
        "id": "mDXD2qgV-sen"
      },
      "execution_count": 18,
      "outputs": []
    },
    {
      "cell_type": "code",
      "source": [
        "from tensorflow.keras.preprocessing.image import ImageDataGenerator"
      ],
      "metadata": {
        "id": "MECLRoSrWtd0"
      },
      "execution_count": 19,
      "outputs": []
    },
    {
      "cell_type": "code",
      "source": [
        "# Train the 3D CNN model\n",
        "history_3d = model_3d.fit(\n",
        "    generator_3d(train_path, train_doc, batch_size=16),\n",
        "    steps_per_epoch=len(train_doc) // 16,\n",
        "    epochs=5,  # Adjust based on your needs\n",
        "    validation_data=generator_3d(val_path, val_doc, batch_size=16),\n",
        "    validation_steps=len(val_doc) // 16,\n",
        "    callbacks=[checkpoint_3d, reduce_lr_3d],\n",
        "    verbose=1\n",
        ")"
      ],
      "metadata": {
        "colab": {
          "base_uri": "https://localhost:8080/"
        },
        "id": "ntAUTSKP-scC",
        "outputId": "8bf14c0a-26d8-49e6-b622-793f75e5609d"
      },
      "execution_count": 23,
      "outputs": [
        {
          "metadata": {
            "tags": null
          },
          "name": "stdout",
          "output_type": "stream",
          "text": [
            "Epoch 1/5\n",
            "41/41 [==============================] - ETA: 0s - loss: 0.8264 - categorical_accuracy: 0.7729 \n",
            "Epoch 1: val_loss did not improve from 4.34404\n",
            "41/41 [==============================] - 971s 23s/step - loss: 0.8264 - categorical_accuracy: 0.7729 - val_loss: 12.7978 - val_categorical_accuracy: 0.4375 - lr: 0.0010\n",
            "Epoch 2/5\n",
            "41/41 [==============================] - ETA: 0s - loss: 0.9570 - categorical_accuracy: 0.8018 \n",
            "Epoch 2: val_loss improved from 4.34404 to 2.95108, saving model to model_3d_best.h5\n"
          ]
        },
        {
          "metadata": {
            "tags": null
          },
          "name": "stderr",
          "output_type": "stream",
          "text": [
            "/usr/local/lib/python3.10/dist-packages/keras/src/engine/training.py:3103: UserWarning: You are saving your model as an HDF5 file via `model.save()`. This file format is considered legacy. We recommend using instead the native Keras format, e.g. `model.save('my_model.keras')`.\n",
            "  saving_api.save_model(\n"
          ]
        },
        {
          "output_type": "stream",
          "name": "stdout",
          "text": [
            "41/41 [==============================] - 1008s 24s/step - loss: 0.9570 - categorical_accuracy: 0.8018 - val_loss: 2.9511 - val_categorical_accuracy: 0.5938 - lr: 0.0010\n",
            "Epoch 3/5\n",
            "41/41 [==============================] - ETA: 0s - loss: 0.8848 - categorical_accuracy: 0.8034 \n",
            "Epoch 3: val_loss improved from 2.95108 to 1.35473, saving model to model_3d_best.h5\n",
            "41/41 [==============================] - 1027s 25s/step - loss: 0.8848 - categorical_accuracy: 0.8034 - val_loss: 1.3547 - val_categorical_accuracy: 0.7396 - lr: 0.0010\n",
            "Epoch 4/5\n",
            "41/41 [==============================] - ETA: 0s - loss: 0.8495 - categorical_accuracy: 0.7927 \n",
            "Epoch 4: val_loss did not improve from 1.35473\n",
            "41/41 [==============================] - 948s 23s/step - loss: 0.8495 - categorical_accuracy: 0.7927 - val_loss: 3.4466 - val_categorical_accuracy: 0.5938 - lr: 0.0010\n",
            "Epoch 5/5\n",
            "41/41 [==============================] - ETA: 0s - loss: 1.0615 - categorical_accuracy: 0.7424 \n",
            "Epoch 5: val_loss did not improve from 1.35473\n",
            "41/41 [==============================] - 945s 23s/step - loss: 1.0615 - categorical_accuracy: 0.7424 - val_loss: 7.3993 - val_categorical_accuracy: 0.5833 - lr: 0.0010\n"
          ]
        }
      ]
    },
    {
      "cell_type": "code",
      "source": [
        "model_3d.compile(optimizer='adam', loss='categorical_crossentropy', metrics=['accuracy'])\n"
      ],
      "metadata": {
        "id": "YqL-XpRt88r6"
      },
      "execution_count": 33,
      "outputs": []
    },
    {
      "cell_type": "code",
      "source": [
        "import matplotlib.pyplot as plt\n",
        "\n",
        "# Plot training & validation accuracy values\n",
        "plt.plot(history_3d.history['categorical_accuracy'])\n",
        "plt.plot(history_3d.history['val_categorical_accuracy'])\n",
        "plt.title('Model accuracy')\n",
        "plt.ylabel('Accuracy')\n",
        "plt.xlabel('Epoch')\n",
        "plt.legend(['Train', 'Validation'], loc='upper left')\n",
        "plt.show()\n",
        "\n",
        "# Print final accuracy\n",
        "print(\"Final Training Accuracy:\", history_3d.history['categorical_accuracy'][-1])\n",
        "print(\"Final Validation Accuracy:\", history_3d.history['val_categorical_accuracy'][-1])\n"
      ],
      "metadata": {
        "colab": {
          "base_uri": "https://localhost:8080/",
          "height": 507
        },
        "id": "cN1girl69Fho",
        "outputId": "c551dbe3-2454-4c5c-c2c4-c2fef2081f26"
      },
      "execution_count": 36,
      "outputs": [
        {
          "output_type": "display_data",
          "data": {
            "text/plain": [
              "<Figure size 640x480 with 1 Axes>"
            ],
            "image/png": "[encoded data removed]"
          },
          "metadata": {}
        },
        {
          "output_type": "stream",
          "name": "stdout",
          "text": [
            "Final Training Accuracy: 0.7423780560493469\n",
            "Final Validation Accuracy: 0.5833333134651184\n"
          ]
        }
      ]
    },
    {
      "cell_type": "markdown",
      "source": [
        "## Model Training Trial 04"
      ],
      "metadata": {
        "id": "Y2vqnGg27s2X"
      }
    },
    {
      "cell_type": "code",
      "source": [
        "# Train the 3D CNN model\n",
        "history_3d = model_3d.fit(\n",
        "    generator_3d(train_path, train_doc, batch_size=16),\n",
        "    steps_per_epoch=len(train_doc) // 16,\n",
        "    epochs=20,\n",
        "    validation_data=generator_3d(val_path, val_doc, batch_size=16),\n",
        "    validation_steps=len(val_doc) // 16,\n",
        "    callbacks=[checkpoint_3d, reduce_lr_3d],\n",
        "    verbose=1\n",
        ")"
      ],
      "metadata": {
        "id": "E4FbNjpB0M2s"
      },
      "execution_count": null,
      "outputs": []
    },
    {
      "cell_type": "code",
      "source": [
        "model_3d.compile(optimizer='adam', loss='categorical_crossentropy', metrics=['accuracy'])\n"
      ],
      "metadata": {
        "id": "XZvKpJUH0H6l"
      },
      "execution_count": null,
      "outputs": []
    },
    {
      "cell_type": "code",
      "source": [
        "import matplotlib.pyplot as plt\n",
        "\n",
        "# Plot training & validation accuracy values\n",
        "plt.plot(history_3d.history['categorical_accuracy'])\n",
        "plt.plot(history_3d.history['val_categorical_accuracy'])\n",
        "plt.title('Model accuracy')\n",
        "plt.ylabel('Accuracy')\n",
        "plt.xlabel('Epoch')\n",
        "plt.legend(['Train', 'Validation'], loc='upper left')\n",
        "plt.show()\n",
        "\n",
        "# Print final accuracy\n",
        "print(\"Final Training Accuracy:\", history_3d.history['categorical_accuracy'][-1])\n",
        "print(\"Final Validation Accuracy:\", history_3d.history['val_categorical_accuracy'][-1])"
      ],
      "metadata": {
        "id": "giAzzyiJ-MGF"
      },
      "execution_count": null,
      "outputs": []
    },
    {
      "cell_type": "code",
      "source": [],
      "metadata": {
        "id": "uhH0LR4W-N2F"
      },
      "execution_count": null,
      "outputs": []
    }
  ],
  "metadata": {
    "colab": {
      "provenance": [],
      "collapsed_sections": [
        "UhRRz9Jg0so_"
      ],
      "authorship_tag": "ABX9TyN8KI4Mh07USIGyjAyoxMxd",
      "include_colab_link": true
    },
    "kernelspec": {
      "display_name": "Python 3",
      "name": "python3"
    },
    "language_info": {
      "name": "python"
    }
  },
  "nbformat": 4,
  "nbformat_minor": 0
}